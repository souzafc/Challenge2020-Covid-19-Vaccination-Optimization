{
    "cells": [
        {
            "metadata": {},
            "cell_type": "markdown",
            "source": "#### Problem description:\n- When a vaccine for COVID-19 is ready, possibly it will not be available immediately in enough quantity to immunize everyone in every region. \n\n#### Objective:\n- In a prescriptive analytic approach, this work proposes a linear programming model aimed to optimize a city vaccination campaign in a way to minimize the number of possible deaths in a scenario where just part of the vaccines arrives in certain regions. Here we are simulating such a scenario using S\u00e3o Paulo city hall data.\n\n#### Outcome:\n- A dashboard was created (link below) using the results generated here.\n- https://dataplatform.cloud.ibm.com/dashboards/7e0a7415-0514-4a82-838a-2f9e8949ff05/view/0768fc2738a832ff6dd7e6e4079d2a547937775bb2bb870280d07b490f317997f36d1a92c87a4f088c150d61faba475a9f\n\n#### References:\n- https://www.prefeitura.sp.gov.br/cidade/secretarias/upload/saude/COVID19_Relatorio_SItuacional_SMS_20200529.pdf\n- https://www.prefeitura.sp.gov.br/cidade/secretarias/subprefeituras/subprefeituras/dados_demograficos/index.php?p=12758\n- https://www.cdc.gov/mmwr/volumes/69/wr/mm6912e2.htm?s_cid=mm6912e2_w#F1_down"
        },
        {
            "metadata": {},
            "cell_type": "code",
            "source": "#Imports\n\nimport ibm_boto3\nimport numpy as np\nimport pandas as pd\nfrom io import StringIO\nimport matplotlib.pyplot as plt\nfrom scipy.stats import truncnorm\nfrom docplex.mp.model import Model\nfrom ibm_botocore.client import Config\nfrom docplex.mp.environment import Environment\nfrom sklearn.linear_model import LinearRegression",
            "execution_count": 41,
            "outputs": []
        },
        {
            "metadata": {},
            "cell_type": "code",
            "source": "#Project's bucket \n\nibm_api_key_id = '***'\nibm_auth_endpoint = 'https://iam.ng.bluemix.net/oidc/token'\nendpoint_url = 'https://s3.private.us.cloud-object-storage.appdomain.cloud'\n\nres = ibm_boto3.resource(service_name='s3',\n    ibm_api_key_id = ibm_api_key_id,\n    ibm_auth_endpoint = ibm_auth_endpoint,\n    config=Config(signature_version = 'oauth'),\n    endpoint_url = endpoint_url)\n\ncos = ibm_boto3.client(service_name='s3',\n    ibm_api_key_id = ibm_api_key_id,\n    ibm_auth_endpoint = ibm_auth_endpoint,\n    config = Config(signature_version = 'oauth'),\n    endpoint_url = endpoint_url)",
            "execution_count": 42,
            "outputs": []
        },
        {
            "metadata": {},
            "cell_type": "markdown",
            "source": "- Loading the S\u00e3o Paulo data for its districts, populations, and number of cases ..."
        },
        {
            "metadata": {},
            "cell_type": "code",
            "source": "obj = cos.get_object(Bucket=bucket_in_out, Key='SP_districts_and_number_of_cases_v2.xlsx')\ndf_districts = pd.read_excel(obj['Body'], sheet_name='districts')\ndf_districts.head()",
            "execution_count": 43,
            "outputs": [
                {
                    "output_type": "execute_result",
                    "execution_count": 43,
                    "data": {
                        "text/plain": "            Distrito  Popula\u00e7\u00e3o (2010)\n0          \u00c1gua Rasa             84963\n1  Alto de Pinheiros             43117\n2         Anhanguera             65859\n3         Aricanduva             89622\n4        Artur Alvim            105269",
                        "text/html": "<div>\n<style scoped>\n    .dataframe tbody tr th:only-of-type {\n        vertical-align: middle;\n    }\n\n    .dataframe tbody tr th {\n        vertical-align: top;\n    }\n\n    .dataframe thead th {\n        text-align: right;\n    }\n</style>\n<table border=\"1\" class=\"dataframe\">\n  <thead>\n    <tr style=\"text-align: right;\">\n      <th></th>\n      <th>Distrito</th>\n      <th>Popula\u00e7\u00e3o (2010)</th>\n    </tr>\n  </thead>\n  <tbody>\n    <tr>\n      <th>0</th>\n      <td>\u00c1gua Rasa</td>\n      <td>84963</td>\n    </tr>\n    <tr>\n      <th>1</th>\n      <td>Alto de Pinheiros</td>\n      <td>43117</td>\n    </tr>\n    <tr>\n      <th>2</th>\n      <td>Anhanguera</td>\n      <td>65859</td>\n    </tr>\n    <tr>\n      <th>3</th>\n      <td>Aricanduva</td>\n      <td>89622</td>\n    </tr>\n    <tr>\n      <th>4</th>\n      <td>Artur Alvim</td>\n      <td>105269</td>\n    </tr>\n  </tbody>\n</table>\n</div>"
                    },
                    "metadata": {}
                }
            ]
        },
        {
            "metadata": {},
            "cell_type": "markdown",
            "source": "- Estimating the population in 2020 considering an increase of 10% relative to 2010 ..."
        },
        {
            "metadata": {},
            "cell_type": "code",
            "source": "df_districts[\"Population (2020)\"] = df_districts[\"Popula\u00e7\u00e3o (2010)\"].apply(lambda x: int(x * 1.1))",
            "execution_count": 44,
            "outputs": []
        },
        {
            "metadata": {},
            "cell_type": "markdown",
            "source": "- Adding cases per district and calculating the proportional incidence per district ..."
        },
        {
            "metadata": {},
            "cell_type": "code",
            "source": "obj = cos.get_object(Bucket=bucket_in_out, Key='SP_districts_and_number_of_cases_v2.xlsx')\ndf_number_of_cases = pd.read_excel(obj['Body'], sheet_name='number of cases until 0529')\ndf_districts.dropna(inplace=True)\ndf_districts = df_districts.merge(df_number_of_cases, how='outer', on='Distrito')\ndf_districts[\"Incidence\"] = round(df_districts[\"Nb. of cases\"] / df_districts[\"Population (2020)\"],5)\ndf_districts.head()",
            "execution_count": 45,
            "outputs": [
                {
                    "output_type": "execute_result",
                    "execution_count": 45,
                    "data": {
                        "text/plain": "            Distrito  Popula\u00e7\u00e3o (2010)  Population (2020)  Nb. of cases  \\\n0          \u00c1gua Rasa             84963              93459           168   \n1  Alto de Pinheiros             43117              47428            83   \n2         Anhanguera             65859              72444            89   \n3         Aricanduva             89622              98584           191   \n4        Artur Alvim            105269             115795           207   \n\n   Incidence  \n0    0.00180  \n1    0.00175  \n2    0.00123  \n3    0.00194  \n4    0.00179  ",
                        "text/html": "<div>\n<style scoped>\n    .dataframe tbody tr th:only-of-type {\n        vertical-align: middle;\n    }\n\n    .dataframe tbody tr th {\n        vertical-align: top;\n    }\n\n    .dataframe thead th {\n        text-align: right;\n    }\n</style>\n<table border=\"1\" class=\"dataframe\">\n  <thead>\n    <tr style=\"text-align: right;\">\n      <th></th>\n      <th>Distrito</th>\n      <th>Popula\u00e7\u00e3o (2010)</th>\n      <th>Population (2020)</th>\n      <th>Nb. of cases</th>\n      <th>Incidence</th>\n    </tr>\n  </thead>\n  <tbody>\n    <tr>\n      <th>0</th>\n      <td>\u00c1gua Rasa</td>\n      <td>84963</td>\n      <td>93459</td>\n      <td>168</td>\n      <td>0.00180</td>\n    </tr>\n    <tr>\n      <th>1</th>\n      <td>Alto de Pinheiros</td>\n      <td>43117</td>\n      <td>47428</td>\n      <td>83</td>\n      <td>0.00175</td>\n    </tr>\n    <tr>\n      <th>2</th>\n      <td>Anhanguera</td>\n      <td>65859</td>\n      <td>72444</td>\n      <td>89</td>\n      <td>0.00123</td>\n    </tr>\n    <tr>\n      <th>3</th>\n      <td>Aricanduva</td>\n      <td>89622</td>\n      <td>98584</td>\n      <td>191</td>\n      <td>0.00194</td>\n    </tr>\n    <tr>\n      <th>4</th>\n      <td>Artur Alvim</td>\n      <td>105269</td>\n      <td>115795</td>\n      <td>207</td>\n      <td>0.00179</td>\n    </tr>\n  </tbody>\n</table>\n</div>"
                    },
                    "metadata": {}
                }
            ]
        },
        {
            "metadata": {},
            "cell_type": "markdown",
            "source": "- Normally distributing each district population in three risk groups (low, medium, and high) ..."
        },
        {
            "metadata": {},
            "cell_type": "code",
            "source": "def distribute_pop_into_risk_groups(pop):\n    distribution = truncnorm.rvs(a=-1, b=+1, size=pop)\n    distribution = distribution.round().astype(int)\n    return [len(np.where(distribution==-1)[0]), len(np.where(distribution==0)[0]), len(np.where(distribution==1)[0])]\n\ndistributions = df_districts[\"Population (2020)\"].apply(distribute_pop_into_risk_groups)\n\nflag_first = True\nfor distribution in distributions:\n    if flag_first:\n        distribution_low_risk = [distribution[0]]\n        distribution_med_risk = [distribution[1]]\n        distribution_hig_risk = [distribution[2]]\n    else:\n        distribution_low_risk.append(distribution[0])\n        distribution_med_risk.append(distribution[1])\n        distribution_hig_risk.append(distribution[2])\n    flag_first=False\n\ndf_districts[\"Low Risk Pop.\"] = distribution_low_risk \ndf_districts[\"Med. Risk Pop.\"] = distribution_med_risk\ndf_districts[\"High Risk Pop.\"] = distribution_hig_risk\n\ndf_districts.head()",
            "execution_count": 46,
            "outputs": [
                {
                    "output_type": "execute_result",
                    "execution_count": 46,
                    "data": {
                        "text/plain": "            Distrito  Popula\u00e7\u00e3o (2010)  Population (2020)  Nb. of cases  \\\n0          \u00c1gua Rasa             84963              93459           168   \n1  Alto de Pinheiros             43117              47428            83   \n2         Anhanguera             65859              72444            89   \n3         Aricanduva             89622              98584           191   \n4        Artur Alvim            105269             115795           207   \n\n   Incidence  Low Risk Pop.  Med. Risk Pop.  High Risk Pop.  \n0    0.00180          20623           52403           20433  \n1    0.00175          10586           26467           10375  \n2    0.00123          15693           40881           15870  \n3    0.00194          21719           55537           21328  \n4    0.00179          25420           64977           25398  ",
                        "text/html": "<div>\n<style scoped>\n    .dataframe tbody tr th:only-of-type {\n        vertical-align: middle;\n    }\n\n    .dataframe tbody tr th {\n        vertical-align: top;\n    }\n\n    .dataframe thead th {\n        text-align: right;\n    }\n</style>\n<table border=\"1\" class=\"dataframe\">\n  <thead>\n    <tr style=\"text-align: right;\">\n      <th></th>\n      <th>Distrito</th>\n      <th>Popula\u00e7\u00e3o (2010)</th>\n      <th>Population (2020)</th>\n      <th>Nb. of cases</th>\n      <th>Incidence</th>\n      <th>Low Risk Pop.</th>\n      <th>Med. Risk Pop.</th>\n      <th>High Risk Pop.</th>\n    </tr>\n  </thead>\n  <tbody>\n    <tr>\n      <th>0</th>\n      <td>\u00c1gua Rasa</td>\n      <td>84963</td>\n      <td>93459</td>\n      <td>168</td>\n      <td>0.00180</td>\n      <td>20623</td>\n      <td>52403</td>\n      <td>20433</td>\n    </tr>\n    <tr>\n      <th>1</th>\n      <td>Alto de Pinheiros</td>\n      <td>43117</td>\n      <td>47428</td>\n      <td>83</td>\n      <td>0.00175</td>\n      <td>10586</td>\n      <td>26467</td>\n      <td>10375</td>\n    </tr>\n    <tr>\n      <th>2</th>\n      <td>Anhanguera</td>\n      <td>65859</td>\n      <td>72444</td>\n      <td>89</td>\n      <td>0.00123</td>\n      <td>15693</td>\n      <td>40881</td>\n      <td>15870</td>\n    </tr>\n    <tr>\n      <th>3</th>\n      <td>Aricanduva</td>\n      <td>89622</td>\n      <td>98584</td>\n      <td>191</td>\n      <td>0.00194</td>\n      <td>21719</td>\n      <td>55537</td>\n      <td>21328</td>\n    </tr>\n    <tr>\n      <th>4</th>\n      <td>Artur Alvim</td>\n      <td>105269</td>\n      <td>115795</td>\n      <td>207</td>\n      <td>0.00179</td>\n      <td>25420</td>\n      <td>64977</td>\n      <td>25398</td>\n    </tr>\n  </tbody>\n</table>\n</div>"
                    },
                    "metadata": {}
                }
            ]
        },
        {
            "metadata": {},
            "cell_type": "markdown",
            "source": "- Setting the number of available vaccines to be distributed (simulation) ..."
        },
        {
            "metadata": {},
            "cell_type": "code",
            "source": "population = int(np.sum(df_districts[\"Population (2020)\"]))\n#nb_vaccines = int(np.sum(population) * .75)\nnb_vaccines = 7.8*10**6\nprint(\"Population:\", \"{:,}\".format(population))\nprint(\"Number of vaccines:\", \"{:,}\".format(nb_vaccines))",
            "execution_count": 47,
            "outputs": [
                {
                    "output_type": "stream",
                    "text": "Population: 12,378,835\nNumber of vaccines: 7,800,000.0\n",
                    "name": "stdout"
                }
            ]
        },
        {
            "metadata": {},
            "cell_type": "markdown",
            "source": "- Defining the mortality rate for each of the three risk groups ..."
        },
        {
            "metadata": {},
            "cell_type": "code",
            "source": "mortality_rate_per_risk_group = [0.001, 0.027, 0.158]\nprint(\"Mortality rate per risk group:\", mortality_rate_per_risk_group)",
            "execution_count": 48,
            "outputs": [
                {
                    "output_type": "stream",
                    "text": "Mortality rate per risk group: [0.001, 0.027, 0.158]\n",
                    "name": "stdout"
                }
            ]
        },
        {
            "metadata": {},
            "cell_type": "markdown",
            "source": "- Modeling and optimizing ..."
        },
        {
            "metadata": {},
            "cell_type": "code",
            "source": "mdl = Model(name=\"COVID-19 Vaccination Campaign\")\n\n#Variables\n\n#The number of vaccines per district per risk group.\n\nnb_vaccines_per_district_per_risk_group = list()\nfor i in range(df_districts.shape[0]):\n    risk_group = list()\n    for j in range(len(mortality_rate_per_risk_group)):\n        varname = \"nb_vaccines_per_district_per_risk_group_\" + str(i) + \"_\" + str(j)\n        risk_group.append(mdl.integer_var(name=varname))\n    nb_vaccines_per_district_per_risk_group.append(risk_group)\n\n#The total number of vaccines.\ntot_vaccines = mdl.sum(nb_vaccines_per_district_per_risk_group[i][j] \n                    for j in range(len(mortality_rate_per_risk_group)) \n                    for i in range(df_districts.shape[0]))\n\n#Variable to minimize.\ndeaths_vaccination_scenario = mdl.sum(((df_districts[[\"Low Risk Pop.\",\"Med. Risk Pop.\",\"High Risk Pop.\"]].iloc[i][j] \n                                        - nb_vaccines_per_district_per_risk_group[i][j])\n                                        * mortality_rate_per_risk_group[j])\n                                        * df_districts[\"Incidence\"][i]\n                                    for j in range(len(mortality_rate_per_risk_group))\n                                    for i in range(df_districts.shape[0]))\n                        \n\n#Constraints\nconstr_nb = 0\n\n#The number of vaccines per region per risk group can not be higher than the respective population.\nfor i in range(df_districts.shape[0]):\n    for j in range(len(mortality_rate_per_risk_group)):\n        constr_nb += 1\n        mdl.add_constraints([nb_vaccines_per_district_per_risk_group[i][j] <= df_districts[[\"Low Risk Pop.\",\"Med. Risk Pop.\",\"High Risk Pop.\"]].iloc[i][j]],  \"constr_nb_\" + str(constr_nb))\n\n#The total given vaccines can not be higher than the total available.\nconstr_nb += 1\nmdl.add_constraint((tot_vaccines <= nb_vaccines), \"constr_nb_\" + str(constr_nb))\n\n#Optimization.\nmdl.minimize(deaths_vaccination_scenario)\nmdl.solve()\nmdl.print_information()\nprint()\n\n#Summary\n\ntotal_pop = df_districts[\"Population (2020)\"].sum()\n\n#deaths in a nonvaccination scenario\ndeaths_nonvaccination_scenario = np.sum([df_districts[[\"Low Risk Pop.\",\"Med. Risk Pop.\",\"High Risk Pop.\"]].iloc[i][j] \n                                         * mortality_rate_per_risk_group[j] \n                                         * df_districts[\"Incidence\"][i]\n                                    for j in range(len(mortality_rate_per_risk_group)) \n                                    for i in range(df_districts.shape[0])])\ndeaths_nonvaccination_scenario = int(round(deaths_nonvaccination_scenario))\n\n#deaths (minimized) in a vaccination scenario\ndeaths_vaccination_scenario = int(round(deaths_vaccination_scenario.solution_value))\n\n#Campaign efficiency in percentage\ncampaign_efficiency_pct = round((deaths_nonvaccination_scenario - deaths_vaccination_scenario) / deaths_nonvaccination_scenario * 100, 1)\n                                       \n#Dataframe with the vaccines' distribution - to be consumed in the dashboard\nlist_vaccines_per_district_per_risk_group = [[df_districts[\"Distrito\"].values[i], j, \n                                              df_districts[[\"Low Risk Pop.\",\"Med. Risk Pop.\",\"High Risk Pop.\"]].iloc[i][j],\n                                              int(nb_vaccines_per_district_per_risk_group[i][j].solution_value)] \n                                            for j in range(len(mortality_rate_per_risk_group))\n                                            for i in range(df_districts.shape[0])]\ndf_vaccines_per_district_per_risk_group = pd.DataFrame(list_vaccines_per_district_per_risk_group, columns=[\"Distrito\", \"Group\", \"Population\", \"Number of Vaccines\"])\n\n#presentation\nprint(\"Population\", \"{:,}\".format(total_pop))\nprint(\"Number of vaccines\", \"{:,}\".format(tot_vaccines.solution_value))\nprint(\"Deaths nonvaccination scenario\", \"{:,}\".format(deaths_nonvaccination_scenario))\nprint(\"Deaths vaccination scenario\", \"{:,}\".format(deaths_vaccination_scenario))\nprint(\"Campaign efficiency %\", \"{:,}\".format(campaign_efficiency_pct))",
            "execution_count": 49,
            "outputs": [
                {
                    "output_type": "display_data",
                    "data": {
                        "text/plain": "<IPython.core.display.HTML object>",
                        "text/html": "<div></div>"
                    },
                    "metadata": {}
                },
                {
                    "output_type": "display_data",
                    "data": {
                        "text/plain": "<IPython.core.display.HTML object>",
                        "text/html": "<div></div>"
                    },
                    "metadata": {}
                },
                {
                    "output_type": "display_data",
                    "data": {
                        "text/plain": "<IPython.core.display.HTML object>",
                        "text/html": "<div></div>"
                    },
                    "metadata": {}
                },
                {
                    "output_type": "display_data",
                    "data": {
                        "text/plain": "<IPython.core.display.HTML object>",
                        "text/html": "<div></div>"
                    },
                    "metadata": {}
                },
                {
                    "output_type": "stream",
                    "text": "Model: COVID-19 Vaccination Campaign\n - number of variables: 288\n   - binary=0, integer=288, continuous=0\n - number of constraints: 289\n   - linear=289\n - parameters: defaults\n - objective: minimize\n - problem type is: MILP\n\nPopulation 12,378,835\nNumber of vaccines 7,800,000\nDeaths nonvaccination scenario 1,048\nDeaths vaccination scenario 70\nCampaign efficiency % 93.3\n",
                    "name": "stdout"
                }
            ]
        },
        {
            "metadata": {},
            "cell_type": "markdown",
            "source": "- Saving the dataframe for the dashboard ..."
        },
        {
            "metadata": {},
            "cell_type": "code",
            "source": "# Creating and saving dataframe with the summary to be used in the dashboards.\nsummary = [total_pop, df_districts.shape[0], nb_vaccines, deaths_nonvaccination_scenario, deaths_vaccination_scenario, campaign_efficiency_pct]\ncolumn_names = [\"Population\", \"Nb. of Districts\", \"Nb. of Vaccines\", \"Deaths Nonvacc. Scenario\", \"Deaths Vaccination Scenario\", \"Campaign Efficiency\"]\ndf_challenge_covid19_summary = pd.DataFrame([summary], columns=column_names).rename_axis(\"summary\")\ncsv_buffer = StringIO()\ndf_challenge_covid19_summary.to_csv(csv_buffer, index=True)\nres.Object(bucket_in_out, 'df_challenge_covid19_summary.csv').put(Body=csv_buffer.getvalue())\n\n#Joining dataframes and saving (to be used for the dashboard)\ndf_districts.set_index([\"Distrito\"], inplace=True)\ndf_risk_low = df_vaccines_per_district_per_risk_group.query(\"Group == 0\")[[\"Distrito\", \"Number of Vaccines\"]].rename(columns={'Number of Vaccines':'Nb. of Vaccines Low Risk Pop.'}).set_index(\"Distrito\")\ndf_risk_med = df_vaccines_per_district_per_risk_group.query(\"Group == 1\")[[\"Distrito\", \"Number of Vaccines\"]].rename(columns={'Number of Vaccines':'Nb. of Vaccines Med. Risk Pop.'}).set_index(\"Distrito\")\ndf_risk_hig = df_vaccines_per_district_per_risk_group.query(\"Group == 2\")[[\"Distrito\", \"Number of Vaccines\"]].rename(columns={'Number of Vaccines':'Nb. of Vaccines High Risk Pop.'}).set_index(\"Distrito\")\ndf_districts = df_districts.join(df_risk_low, how='left')\ndf_districts = df_districts.join(df_risk_med, how='left')\ndf_districts = df_districts.join(df_risk_hig, how='left')\ncsv_buffer = StringIO()\ndf_districts.to_csv(csv_buffer, index=True)\nres.Object(bucket_in_out, 'df_challenge_covid19_vaccines.csv').put(Body=csv_buffer.getvalue())",
            "execution_count": 50,
            "outputs": [
                {
                    "output_type": "execute_result",
                    "execution_count": 50,
                    "data": {
                        "text/plain": "{'ResponseMetadata': {'RequestId': '0749a589-6570-434b-a9b4-92cff6913c7e',\n  'HostId': '',\n  'HTTPStatusCode': 200,\n  'HTTPHeaders': {'date': 'Mon, 13 Jul 2020 22:33:04 GMT',\n   'x-clv-request-id': '0749a589-6570-434b-a9b4-92cff6913c7e',\n   'server': 'Cleversafe/3.14.13.32',\n   'x-clv-s3-version': '2.5',\n   'x-amz-request-id': '0749a589-6570-434b-a9b4-92cff6913c7e',\n   'etag': '\"2b870e262b9ad5bbdea3145ed91be1f1\"',\n   'content-length': '0'},\n  'RetryAttempts': 0},\n 'ETag': '\"2b870e262b9ad5bbdea3145ed91be1f1\"'}"
                    },
                    "metadata": {}
                }
            ]
        },
        {
            "metadata": {},
            "cell_type": "markdown",
            "source": "<div style=\"background:#F5F7FA; height:110px; padding: 2em; font-size:14px;\">\n<span style=\"font-size:18px;color:#152935;\">Love this notebook? </span>\n<span style=\"font-size:15px;color:#152935;float:right;margin-right:40px;\">Don't have an account yet?</span><br>\n<span style=\"color:#5A6872;\">Share it with your colleagues and help them discover the power of Watson Studio!</span>\n<span style=\"border: 1px solid #3d70b2;padding:8px;float:right;margin-right:40px; color:#3d70b2;\"><a href=\"https://ibm.co/wsnotebooks\" target=\"_blank\" style=\"color: #3d70b2;text-decoration: none;\">Sign Up</a></span><br>\n</div>"
        },
        {
            "metadata": {},
            "cell_type": "code",
            "source": "",
            "execution_count": null,
            "outputs": []
        }
    ],
    "metadata": {
        "kernelspec": {
            "name": "python3",
            "display_name": "Python 3.6",
            "language": "python"
        },
        "language_info": {
            "name": "python",
            "version": "3.6.9",
            "mimetype": "text/x-python",
            "codemirror_mode": {
                "name": "ipython",
                "version": 3
            },
            "pygments_lexer": "ipython3",
            "nbconvert_exporter": "python",
            "file_extension": ".py"
        }
    },
    "nbformat": 4,
    "nbformat_minor": 1
}
